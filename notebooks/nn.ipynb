{
 "cells": [
  {
   "cell_type": "code",
   "execution_count": null,
   "metadata": {
    "pycharm": {
     "name": "#%%\n"
    }
   },
   "outputs": [],
   "source": [
    "%load_ext autoreload\n",
    "%autoreload 2\n",
    "\n",
    "import torch\n",
    "import torch.optim as optim\n",
    "import torch.nn as nn\n",
    "from torch.utils.data import DataLoader, TensorDataset\n",
    "import numpy as np\n",
    "import pandas as pd\n",
    "from src.gen import train_test_from_null\n",
    "from src.titanic import prepare_dataset_pandas\n",
    "from src.settings import DATA_PATH, DEVICE\n",
    "\n",
    "# Whether to run intensive grid searches (True) or simple fits (False)\n",
    "intensive = True"
   ]
  },
  {
   "cell_type": "markdown",
   "metadata": {
    "collapsed": false,
    "pycharm": {
     "name": "#%% md\n"
    }
   },
   "source": [
    "Let's use a previously cleaned database with missing values already imputed (including age)"
   ]
  },
  {
   "cell_type": "code",
   "execution_count": null,
   "metadata": {
    "pycharm": {
     "name": "#%%\n"
    }
   },
   "outputs": [],
   "source": [
    "clean_comb_data = pd.read_csv(DATA_PATH / \"titanic\" / \"all_data_clean.csv\", index_col=0)\n",
    "\n",
    "clean_train_data, clean_test_data = train_test_from_null(clean_comb_data, \"Survived\")\n",
    "clean_train_data.info()\n",
    "clean_test_data.info()"
   ]
  },
  {
   "cell_type": "code",
   "execution_count": null,
   "metadata": {
    "pycharm": {
     "name": "#%%\n"
    }
   },
   "outputs": [],
   "source": [
    "class Net(nn.Module):\n",
    "    def __init__(self, l1=128, l2=64):\n",
    "        super(Net, self).__init__()\n",
    "        self.hid1 = nn.Linear(10, l1)\n",
    "        self.hid2 = nn.Linear(l1, l2)\n",
    "        self.oupt = nn.Linear(l2, 2)\n",
    "\n",
    "        nn.init.xavier_uniform_(self.hid1.weight)\n",
    "        nn.init.zeros_(self.hid1.bias)\n",
    "        nn.init.xavier_uniform_(self.hid2.weight)\n",
    "        nn.init.zeros_(self.hid2.bias)\n",
    "        nn.init.xavier_uniform_(self.oupt.weight)\n",
    "        nn.init.zeros_(self.oupt.bias)\n",
    "\n",
    "    def forward(self, x):\n",
    "        x = torch.relu(self.hid1(x))\n",
    "        x = torch.relu(self.hid2(x))\n",
    "        x = self.oupt(x)  # no softmax: CrossEntropyLoss()\n",
    "        return x\n",
    "\n",
    "net = Net().to(DEVICE)"
   ]
  },
  {
   "cell_type": "code",
   "execution_count": null,
   "metadata": {
    "pycharm": {
     "name": "#%%\n"
    }
   },
   "outputs": [],
   "source": [
    "train_data = clean_train_data.copy()\n",
    "test_data = clean_test_data.copy()\n",
    "\n",
    "target = \"Survived\"\n",
    "drop_columns = [\"PassengerId\", \"Cabin\", \"Ticket\", \"Name\", \"Sex\"]\n",
    "\n",
    "data = prepare_dataset_pandas([train_data, test_data], drop=drop_columns, target=target)\n",
    "train_data = data[0]\n",
    "test_data = data[1]\n",
    "train_data"
   ]
  },
  {
   "cell_type": "code",
   "execution_count": null,
   "metadata": {
    "pycharm": {
     "name": "#%%\n"
    }
   },
   "outputs": [],
   "source": [
    "train_target = torch.tensor(train_data[target].values).type(torch.LongTensor)\n",
    "train = torch.tensor(train_data.drop(target, axis=1).values.astype(np.float32))\n",
    "\n",
    "train_tensor = TensorDataset(train, train_target)\n",
    "train_loader = DataLoader(dataset=train_tensor, batch_size=32, shuffle=True)"
   ]
  },
  {
   "cell_type": "code",
   "execution_count": null,
   "metadata": {
    "pycharm": {
     "name": "#%%\n"
    }
   },
   "outputs": [],
   "source": [
    "criterion = nn.CrossEntropyLoss()\n",
    "optimizer = optim.SGD(net.parameters(), lr=0.001, momentum=0.9)\n",
    "\n",
    "for epoch in range(100):  # loop over the dataset multiple times\n",
    "\n",
    "    running_loss = 0.0\n",
    "    for i, data in enumerate(train_loader, 0):\n",
    "        # get the inputs; data is a list of [inputs, labels]\n",
    "        inputs, labels = data\n",
    "\n",
    "        inputs = inputs.to(DEVICE)\n",
    "        labels = labels.to(DEVICE)\n",
    "\n",
    "        # zero the parameter gradients\n",
    "        optimizer.zero_grad()\n",
    "\n",
    "        # forward + backward + optimize\n",
    "        outputs = net(inputs)\n",
    "        loss = criterion(outputs, labels)\n",
    "        loss.backward()\n",
    "        optimizer.step()\n",
    "\n",
    "        running_loss += loss.item()\n",
    "\n",
    "    # print statistics\n",
    "    print(f'{epoch + 1} loss: {running_loss / len(train_loader):.3f}')\n",
    "\n",
    "print('Finished Training')"
   ]
  }
 ],
 "metadata": {
  "kernelspec": {
   "display_name": "Python 3",
   "language": "python",
   "name": "python3"
  },
  "language_info": {
   "codemirror_mode": {
    "name": "ipython",
    "version": 2
   },
   "file_extension": ".py",
   "mimetype": "text/x-python",
   "name": "python",
   "nbconvert_exporter": "python",
   "pygments_lexer": "ipython2",
   "version": "2.7.6"
  }
 },
 "nbformat": 4,
 "nbformat_minor": 0
}
