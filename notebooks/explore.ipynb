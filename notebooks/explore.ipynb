{
 "cells": [
  {
   "cell_type": "markdown",
   "id": "0048f47f",
   "metadata": {},
   "source": [
    "Thoughts:\n",
    "Age is a potentially high correlator, but many entries have null age. Could see what values correlate to age, and fit a model to predict null ages."
   ]
  },
  {
   "cell_type": "code",
   "execution_count": null,
   "id": "a0042280",
   "metadata": {},
   "outputs": [],
   "source": [
    "import sys\n",
    "import numpy as np\n",
    "import pandas as pd\n",
    "from dython.nominal import associations, identify_nominal_columns\n",
    "\n",
    "sys.path.append(\"/home/andrew/PycharmProjects/PyTorch\")\n",
    "from src.kaggle_api import get_dataset"
   ]
  },
  {
   "cell_type": "markdown",
   "id": "a61326fb",
   "metadata": {},
   "source": [
    "Load in dataset and show info"
   ]
  },
  {
   "cell_type": "code",
   "execution_count": null,
   "id": "4e15d260",
   "metadata": {},
   "outputs": [],
   "source": [
    "data_path = get_dataset(\"titanic\")\n",
    "train_data = pd.read_csv(data_path / \"train.csv\")\n",
    "test_data = pd.read_csv(data_path / \"test.csv\")\n",
    "comb_data = pd.concat([train_data, test_data], axis=0)\n",
    "\n",
    "print(train_data.info())\n",
    "print(test_data.info())"
   ]
  },
  {
   "cell_type": "markdown",
   "id": "06be10e8",
   "metadata": {},
   "source": [
    "First, let's remove any columns that should have no impact on survivability"
   ]
  },
  {
   "cell_type": "code",
   "execution_count": null,
   "id": "d636bfe1",
   "metadata": {},
   "outputs": [],
   "source": [
    "train_data.drop([\"PassengerId\", \"Ticket\"], axis=1, inplace=True)\n",
    "comb_data.drop([\"PassengerId\", \"Ticket\"], axis=1, inplace=True)"
   ]
  },
  {
   "cell_type": "markdown",
   "id": "80d65eee",
   "metadata": {},
   "source": [
    "Next, let's see how many rows contain null values, and the breakdown of these per column"
   ]
  },
  {
   "cell_type": "code",
   "execution_count": null,
   "id": "0938938a",
   "metadata": {},
   "outputs": [],
   "source": [
    "tot_null = train_data.isna().any(axis=1).sum()\n",
    "col_null = train_data.isna().sum()\n",
    "\n",
    "print(f\"Total number of null rows is {tot_null}\")\n",
    "print(f\"Breakdown per column is: \\n{col_null}\")"
   ]
  },
  {
   "cell_type": "markdown",
   "id": "797db855",
   "metadata": {},
   "source": [
    "Age may be an important factor, so let's first look at the Cabin column"
   ]
  },
  {
   "cell_type": "code",
   "execution_count": null,
   "id": "1151cba8",
   "metadata": {},
   "outputs": [],
   "source": [
    "comb_data['Cabin'].value_counts()"
   ]
  },
  {
   "cell_type": "markdown",
   "id": "0ea368d1",
   "metadata": {},
   "source": [
    "This does not look too helpful with so many null values, so let's drop."
   ]
  },
  {
   "cell_type": "code",
   "execution_count": null,
   "id": "28cda25d",
   "metadata": {},
   "outputs": [],
   "source": [
    "train_data.drop([\"Cabin\"], axis=1, inplace=True)\n",
    "comb_data.drop([\"Cabin\"], axis=1, inplace=True)"
   ]
  },
  {
   "cell_type": "code",
   "execution_count": null,
   "id": "4cc59652",
   "metadata": {},
   "outputs": [],
   "source": [
    "train_data[train_data.isna().any(axis=1)]"
   ]
  },
  {
   "cell_type": "markdown",
   "id": "79d54db3",
   "metadata": {},
   "source": [
    "Let's get straight to the point! What factors correlate with survival? \n",
    "This may not be an apples to apples test since some values are categorical"
   ]
  },
  {
   "cell_type": "code",
   "execution_count": null,
   "id": "bd556a1a",
   "metadata": {},
   "outputs": [],
   "source": [
    "train_data.corr(method ='pearson')"
   ]
  },
  {
   "cell_type": "markdown",
   "id": "b4e26569",
   "metadata": {},
   "source": [
    "Let's look specifically at age data. Dropping rows with null ages would remove a lot of data, so instead we want to get some insights and try to fill the age column."
   ]
  },
  {
   "cell_type": "code",
   "execution_count": null,
   "id": "5c7d5a6f",
   "metadata": {},
   "outputs": [],
   "source": [
    "#print(list(comb_data[\"Name\"]))\n",
    "comb_data[\"Title\"] = comb_data[\"Name\"].str.extract(r\",\\s?(\\w*).{1}\")\n",
    "comb_data.drop(\"Name\", axis=1, inplace=True)\n",
    "comb_data[\"Title\"].value_counts()"
   ]
  },
  {
   "cell_type": "markdown",
   "id": "b5655d25",
   "metadata": {},
   "source": [
    "Replace obvious titles"
   ]
  },
  {
   "cell_type": "code",
   "execution_count": null,
   "id": "30605a76",
   "metadata": {},
   "outputs": [],
   "source": [
    "replace_male = (comb_data[\"Sex\"] == \"male\") & (~comb_data[\"Title\"].isin([\"Mr\", \"Master\"]))\n",
    "comb_data.loc[replace_male, \"Title\"] = \"Mr\"\n",
    "comb_data.loc[replace_male & (comb_data[\"Age\"] < 18), \"Title\"] = \"Master\"\n",
    "\n",
    "replace_female = (comb_data[\"Sex\"] == \"female\") & (~comb_data[\"Title\"].isin([\"Miss\", \"Mrs\"]))\n",
    "comb_data.loc[replace_female, \"Title\"] = \"Miss\"\n",
    "comb_data.loc[replace_female & (comb_data[\"Age\"] > 18) & (comb_data[\"SibSp\"] | comb_data[\"Parch\"]), \"Title\"] = \"Mrs\"\n",
    "\n",
    "comb_data[\"Title\"].value_counts()\n",
    "comb_data"
   ]
  },
  {
   "cell_type": "code",
   "execution_count": null,
   "id": "ba7d9312",
   "metadata": {},
   "outputs": [],
   "source": [
    "train_data = train_data.filter(comb_data.columns)\n",
    "cat_cols = identify_nominal_columns(train_data.filter(comb_data.columns))\n",
    "print(cat_cols)"
   ]
  },
  {
   "cell_type": "code",
   "execution_count": null,
   "id": "b068f2c7",
   "metadata": {},
   "outputs": [],
   "source": [
    "assoc_func = lambda data, nom_col: associations(\n",
    "    data, \n",
    "    nominal_columns=nom_col, \n",
    "    numerical_columns=None, \n",
    "    mark_columns=False, \n",
    "    nom_nom_assoc=\"cramer\", \n",
    "    num_num_assoc=\"pearson\", \n",
    "    cramers_v_bias_correction=False, \n",
    "    nan_strategy=\"drop_samples\",  \n",
    "    ax=None, \n",
    "    figsize=None, \n",
    "    annot=True, \n",
    "    fmt='.2f', \n",
    "    cmap=None, \n",
    "    sv_color='silver', \n",
    "    cbar=True, \n",
    "    vmax=1.0, \n",
    "    vmin=None, \n",
    "    plot=True, \n",
    "    compute_only=False, \n",
    "    clustering=False, \n",
    "    title=None, \n",
    "    filename=None\n",
    ")\n",
    "\n",
    "correl = assoc_func(comb_data, \"auto\")"
   ]
  },
  {
   "cell_type": "markdown",
   "id": "b8f6a521",
   "metadata": {},
   "source": [
    "Let's try again, this time specifying categorical columns. Also, we can now drop the Sex column, since it is fully correlated with Title which gives more information with respect to age. \n",
    "\n",
    "NOTE we may have less noise if we use Sex instead of Title for the survival model."
   ]
  },
  {
   "cell_type": "code",
   "execution_count": null,
   "id": "11b1c84c",
   "metadata": {},
   "outputs": [],
   "source": [
    "train_data.drop(\"Sex\", axis=1, inplace=True)\n",
    "comb_data.drop(\"Sex\", axis=1, inplace=True)\n",
    "nom_col = [\"Survived\", \"Pclass\", \"Sex\", \"Embarked\", \"Title\"]\n",
    "correl = assoc_func(comb_data, nom_col)"
   ]
  },
  {
   "cell_type": "code",
   "execution_count": null,
   "id": "2b5c1d46",
   "metadata": {},
   "outputs": [],
   "source": []
  }
 ],
 "metadata": {
  "kernelspec": {
   "display_name": "Python [conda env:pyt] *",
   "language": "python",
   "name": "conda-env-pyt-py"
  },
  "language_info": {
   "codemirror_mode": {
    "name": "ipython",
    "version": 3
   },
   "file_extension": ".py",
   "mimetype": "text/x-python",
   "name": "python",
   "nbconvert_exporter": "python",
   "pygments_lexer": "ipython3",
   "version": "3.10.4"
  }
 },
 "nbformat": 4,
 "nbformat_minor": 5
}
